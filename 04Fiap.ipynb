{
  "nbformat": 4,
  "nbformat_minor": 0,
  "metadata": {
    "colab": {
      "provenance": [],
      "authorship_tag": "ABX9TyMPxqjdoPzuUs3fo7RrCkWu"
    },
    "kernelspec": {
      "name": "python3",
      "display_name": "Python 3"
    },
    "language_info": {
      "name": "python"
    }
  },
  "cells": [
    {
      "cell_type": "markdown",
      "source": [
        "uso do  **for**"
      ],
      "metadata": {
        "id": "1TVisQ0Lr7B9"
      }
    },
    {
      "cell_type": "code",
      "source": [
        "tabuada=int(input(\"Digite um número para exibir a tabuada: \"))\n",
        "print(\"Tabuada do número \", tabuada)\n",
        "for valor in range(1,11,1):\n",
        "    print(str(tabuada) + \" x \" + str(valor) + \" = \" + str((tabuada*valor)))"
      ],
      "metadata": {
        "colab": {
          "base_uri": "https://localhost:8080/"
        },
        "id": "r9CQ8LrAsPrb",
        "outputId": "46f6fde0-cc78-4402-cad3-0affd9fdd662"
      },
      "execution_count": 1,
      "outputs": [
        {
          "output_type": "stream",
          "name": "stdout",
          "text": [
            "Digite um número para exibir a tabuada: 5\n",
            "Tabuada do número  5\n",
            "5 x 1 = 5\n",
            "5 x 2 = 10\n",
            "5 x 3 = 15\n",
            "5 x 4 = 20\n",
            "5 x 5 = 25\n",
            "5 x 6 = 30\n",
            "5 x 7 = 35\n",
            "5 x 8 = 40\n",
            "5 x 9 = 45\n",
            "5 x 10 = 50\n"
          ]
        }
      ]
    }
  ]
}