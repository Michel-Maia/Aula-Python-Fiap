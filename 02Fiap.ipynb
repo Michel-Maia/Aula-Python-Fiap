{
  "nbformat": 4,
  "nbformat_minor": 0,
  "metadata": {
    "colab": {
      "provenance": [],
      "authorship_tag": "ABX9TyPeWIHPrBXBKFcH2GMSWQeQ"
    },
    "kernelspec": {
      "name": "python3",
      "display_name": "Python 3"
    },
    "language_info": {
      "name": "python"
    }
  },
  "cells": [
    {
      "cell_type": "markdown",
      "source": [
        "Tomadas de Decisões"
      ],
      "metadata": {
        "id": "CBIr3xeMKdMt"
      }
    },
    {
      "cell_type": "markdown",
      "source": [
        "** if **\n",
        "\n",
        "A linha do if deve ser encerrada com dois pontos (:) *então*\n",
        "\n",
        "A linha a ser executada, caso a condiçãp seja verdadeira deverá estar com recuo de margem \n"
      ],
      "metadata": {
        "id": "diDLml8aPF0G"
      }
    },
    {
      "cell_type": "code",
      "execution_count": 1,
      "metadata": {
        "colab": {
          "base_uri": "https://localhost:8080/"
        },
        "id": "AWRmwT_nKYAG",
        "outputId": "584a35e6-f032-4712-85ce-b3ae262cce24"
      },
      "outputs": [
        {
          "output_type": "stream",
          "name": "stdout",
          "text": [
            "Você está de...\n",
            "Parabéns\n",
            "Este texto ainda será exibido se a nota for maior que seis\n",
            "A exibição deste texto independe da condição do if\n"
          ]
        }
      ],
      "source": [
        "nota=8\n",
        "if nota>=6:\n",
        "  print(\"Você está de...\")\n",
        "  print(\"Parabéns\")\n",
        "  print(\"Este texto ainda será exibido se a nota for maior que seis\")\n",
        "print(\"A exibição deste texto independe da condição do if\")"
      ]
    },
    {
      "cell_type": "code",
      "source": [
        "nome=input(\"Digite o nome: \")\n",
        "idade=int(input(\"Digite a idade: \"))\n",
        "prioridade=\"NÃO\"\n",
        "if idade>=65:\n",
        "    prioridade=\"SIM\"\n",
        "print(\"O paciente \" + nome + \" possui atendimento prioritário? \" + prioridade)"
      ],
      "metadata": {
        "colab": {
          "base_uri": "https://localhost:8080/"
        },
        "id": "0OXzrUoEjyNx",
        "outputId": "7702b7ab-930d-4d1c-9382-197e00c9e212"
      },
      "execution_count": 3,
      "outputs": [
        {
          "output_type": "stream",
          "name": "stdout",
          "text": [
            "Digite o nome: Enzo\n",
            "Digite a idade: 85\n",
            "O paciente Enzo possui atendimento prioritário? SIM\n"
          ]
        }
      ]
    },
    {
      "cell_type": "code",
      "source": [
        "nome=input(\"Digite o nome: \")\n",
        "idade=int(input(\"Digite a idade: \"))\n",
        "if idade>=65:\n",
        "    print(\"O paciente \" + nome + \" POSSUI atendimento prioritário!\")\n",
        "else:\n",
        "    print(\"O paciente \" + nome + \" NÃO possui atendimento prioritário!\")"
      ],
      "metadata": {
        "colab": {
          "base_uri": "https://localhost:8080/"
        },
        "id": "SJo6aN9tkFSu",
        "outputId": "0d6e687e-9028-449f-ca89-a8309f2ec1b4"
      },
      "execution_count": 4,
      "outputs": [
        {
          "output_type": "stream",
          "name": "stdout",
          "text": [
            "Digite o nome: Enzo\n",
            "Digite a idade: 45\n",
            "O paciente Enzo NÃO possui atendimento prioritário!\n"
          ]
        }
      ]
    },
    {
      "cell_type": "markdown",
      "source": [
        "uso do elif()\n"
      ],
      "metadata": {
        "id": "p0ihSlpBlVCi"
      }
    },
    {
      "cell_type": "code",
      "source": [
        "nome=input(\"Digite o nome: \")\n",
        "idade=int(input(\"Digite a idade: \"))\n",
        "doenca_infectocontagiosa=input(\"Suspeita de doença infecto-contagiosa?\").upper()\n",
        "if idade>=65:\n",
        "    print(\"O paciente \" + nome + \" POSSUI atendimento prioritário!\")\n",
        "elif doenca_infectocontagiosa==\"SIM\":\n",
        "    print(\"O paciente \" + nome + \" deve ser direcionado para sala de espera reservada.\")\n",
        "else:\n",
        "    print(\"O paciente \" + nome + \" NÃO possui atendimento prioritário e pode aguardar na sala comum!\")"
      ],
      "metadata": {
        "colab": {
          "base_uri": "https://localhost:8080/"
        },
        "id": "dteCizLLlGiZ",
        "outputId": "4cfb6e3a-02fc-4e30-ac30-f3ca5bca6089"
      },
      "execution_count": 5,
      "outputs": [
        {
          "output_type": "stream",
          "name": "stdout",
          "text": [
            "Digite o nome: João\n",
            "Digite a idade: 40\n",
            "Suspeita de doença infecto-contagiosa?sim\n",
            "O paciente João deve ser direcionado para sala de espera reservada.\n"
          ]
        }
      ]
    },
    {
      "cell_type": "markdown",
      "source": [
        "uso do upper()\n",
        "deixa as letras maiúsculas"
      ],
      "metadata": {
        "id": "HdUQEtIqlcIP"
      }
    },
    {
      "cell_type": "markdown",
      "source": [
        "operador \"==\" é implementado para indicar a comparação\n",
        "\n",
        "** um = representa atribuição dois == representam comparação **\n",
        "\n",
        "dessa forma o else somente será executado se a primeira e a segunda condição forem falsas"
      ],
      "metadata": {
        "id": "dl2rZWU6lrBY"
      }
    },
    {
      "cell_type": "markdown",
      "source": [
        "Uso do **and** "
      ],
      "metadata": {
        "id": "4Ovz7RlamvYF"
      }
    },
    {
      "cell_type": "code",
      "source": [
        "nome=input(\"Digite o nome: \")\n",
        "idade=int(input(\"Digite a idade: \"))\n",
        "doenca_infectocontagiosa=input(\"Suspeita de doença infecto-contagiosa?\").upper()\n",
        "if idade>=65 and doenca_infectocontagiosa==\"SIM\":\n",
        "    print(\"O paciente será direcionado para sala AMARELA - COM prioridade\")\n",
        "elif idade < 65 and doenca_infectocontagiosa == \"SIM\":\n",
        "    print(\"O paciente será direcionado para sala AMARELA - SEM prioridade\")\n",
        "elif idade >= 65 and doenca_infectocontagiosa == \"NAO\":\n",
        "    print(\"O paciente será direcionado para sala BRANCA - COM prioridade\")\n",
        "elif idade < 65 and doenca_infectocontagiosa == \"NAO\":\n",
        "    print(\"O paciente será direcionado para sala BRANCA - SEM prioridade\")\n",
        "else:\n",
        "    print(\"Responda a suspeita de doença infectocontagiosa com SIM ou NAO\")"
      ],
      "metadata": {
        "colab": {
          "base_uri": "https://localhost:8080/"
        },
        "id": "eq-2LjQ7mYpF",
        "outputId": "dd9340a9-7f0e-4b0e-9001-3a1d103e03fe"
      },
      "execution_count": 7,
      "outputs": [
        {
          "output_type": "stream",
          "name": "stdout",
          "text": [
            "Digite o nome: José\n",
            "Digite a idade: 23\n",
            "Suspeita de doença infecto-contagiosa?NAO\n",
            "O paciente será direcionado para sala BRANCA - SEM prioridade\n"
          ]
        }
      ]
    },
    {
      "cell_type": "code",
      "source": [
        "nome=input(\"Digite o nome: \")\n",
        "idade=int(input(\"Digite a idade: \"))\n",
        "doenca_infectocontagiosa=input(\"Suspeita de doença infectocontagiosa?\").upper()\n",
        "if idade >= 65:\n",
        "    print(\"Paciente COM prioridade\")\n",
        "    if doenca_infectocontagiosa==\"SIM\":\n",
        "        print(\"Encaminhe o paciente para sala AMARELA\")\n",
        "    elif doenca_infectocontagiosa==\"NAO\":\n",
        "        print(\"Encaminhe o paciente para sala BRANCA\")\n",
        "    else:\n",
        "        print(\"Responda a suspeita de doença infectocontagiosa com SIM ou NAO\")\n",
        "else:\n",
        "    print(\"Paciente SEM prioridade\")\n",
        "    if doenca_infectocontagiosa==\"SIM\":\n",
        "        print(\"Encaminhe o paciente para sala AMARELA\")\n",
        "    elif doenca_infectocontagiosa==\"NAO\":\n",
        "        print(\"Encaminhe o paciente para sala BRANCA\")\n",
        "    else:\n",
        "        print(\"Responda a suspeita de doença infectocontagiosa com SIM ou NAO\")"
      ],
      "metadata": {
        "colab": {
          "base_uri": "https://localhost:8080/"
        },
        "id": "6NYgVNffnUKH",
        "outputId": "66d0d811-0108-4901-c04c-65ce3bcdb640"
      },
      "execution_count": 8,
      "outputs": [
        {
          "output_type": "stream",
          "name": "stdout",
          "text": [
            "Digite o nome: José\n",
            "Digite a idade: 23\n",
            "Suspeita de doença infectocontagiosa?NAO\n",
            "Paciente SEM prioridade\n",
            "Encaminhe o paciente para sala BRANCA\n"
          ]
        }
      ]
    },
    {
      "cell_type": "code",
      "source": [
        "nome=input(\"Digite o nome: \")\n",
        "idade=int(input(\"Digite a idade: \"))\n",
        "doenca_infectocontagiosa=input(\"Suspeita de doença infectocontagiosa? \").upper()\n",
        "\n",
        "# PRIMEIRO PROBLEMA A SER RESOLVIDO\n",
        "if doenca_infectocontagiosa==\"SIM\":\n",
        "    print(\"Encaminhe o paciente para sala AMARELA\")\n",
        "elif doenca_infectocontagiosa==\"NAO\":\n",
        "    print(\"Encaminhe o paciente para sala BRANCA\")\n",
        "else:\n",
        "    print(\"Responda a suspeita de doença infectocontagiosa com SIM ou NAO\")\n",
        "\n",
        "# SEGUNDO PROBLEMA A SER RESOLVIDO\n",
        "if idade >= 65:\n",
        "    print(\"Paciente COM prioridade\")\n",
        "else:\n",
        "    genero=input(\"Digite o gênero do paciente: \").upper()\n",
        "    if genero==\"FEMININO\" and idade>10:\n",
        "        gravidez=input(\"A paciente está grávida? \").upper()\n",
        "        if gravidez==\"SIM\":\n",
        "            print(\"Paciente COM prioridade\")\n",
        "        else:\n",
        "            print(\"Paciente SEM prioridade\")\n",
        "    else:\n",
        "        print(\"Paciente SEM prioridade\")"
      ],
      "metadata": {
        "colab": {
          "base_uri": "https://localhost:8080/"
        },
        "id": "ML-v8jKMnsPY",
        "outputId": "3fda1577-e029-4467-ec0d-fa1a9855e3e0"
      },
      "execution_count": 10,
      "outputs": [
        {
          "output_type": "stream",
          "name": "stdout",
          "text": [
            "Digite o nome: Maria\n",
            "Digite a idade: 36\n",
            "Suspeita de doença infectocontagiosa? NAO\n",
            "Encaminhe o paciente para sala BRANCA\n",
            "Digite o gênero do paciente: FEMININO\n",
            "A paciente está grávida? SIM\n",
            "Paciente COM prioridade\n"
          ]
        }
      ]
    }
  ]
}