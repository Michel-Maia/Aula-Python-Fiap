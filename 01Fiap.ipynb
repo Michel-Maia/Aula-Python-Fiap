{
  "nbformat": 4,
  "nbformat_minor": 0,
  "metadata": {
    "colab": {
      "provenance": [],
      "authorship_tag": "ABX9TyPrFZbuiEV/SHKHAJrMYe6u"
    },
    "kernelspec": {
      "name": "python3",
      "display_name": "Python 3"
    },
    "language_info": {
      "name": "python"
    }
  },
  "cells": [
    {
      "cell_type": "markdown",
      "source": [
        "Ex Aula Fiap \n",
        "\n",
        "** Variáveis ** "
      ],
      "metadata": {
        "id": "NuiZyUUhFz3r"
      }
    },
    {
      "cell_type": "code",
      "execution_count": 1,
      "metadata": {
        "id": "qPF6_v1lFFUw"
      },
      "outputs": [],
      "source": [
        "nome=\"Humberto Delgado\"\n",
        "empresa='FIAP'\n",
        "qtde_funcionarios=500\n",
        "mediaMensalidade=856.50"
      ]
    },
    {
      "cell_type": "markdown",
      "source": [
        "uso do print()"
      ],
      "metadata": {
        "id": "sMWklwuGGiDx"
      }
    },
    {
      "cell_type": "markdown",
      "source": [
        "foi usado a função str() para converter o conteúdo da variável \"float\" para string com isso a variável mediaMensalidade está dentro da função str()"
      ],
      "metadata": {
        "id": "uxOHHsjaG-Uz"
      }
    },
    {
      "cell_type": "code",
      "source": [
        "nome=\"Humberto Delgado\"\n",
        "empresa='FIAP'\n",
        "qtde_funcionarios=500\n",
        "mediaMensalidade=856.50\n",
        "print(nome + \" trabalha na empresa \" + empresa)\n",
        "print(\"Possui: \", qtde_funcionarios, \" funcionarios.\")\n",
        "print(\"A média da mensalidade é de: \" + str(mediaMensalidade))"
      ],
      "metadata": {
        "colab": {
          "base_uri": "https://localhost:8080/"
        },
        "id": "YefMc_-oGeAJ",
        "outputId": "5fc43593-1cee-4b25-e8be-40b003be5872"
      },
      "execution_count": 2,
      "outputs": [
        {
          "output_type": "stream",
          "name": "stdout",
          "text": [
            "Humberto Delgado trabalha na empresa FIAP\n",
            "Possui:  500  funcionarios.\n",
            "A média da mensalidade é de: 856.5\n"
          ]
        }
      ]
    },
    {
      "cell_type": "markdown",
      "source": [
        "uso do input\n",
        "permite que o usuário possa digitar um conteúdo"
      ],
      "metadata": {
        "id": "up9UNl4SH_4g"
      }
    },
    {
      "cell_type": "code",
      "source": [
        "nome=input(\"Digite um funcionário: \")\n",
        "empresa=input(\"Digite a instituição: \")\n",
        "qtde_funcionarios=int(input(\"Digite a qtde de funcionários: \"))\n",
        "mediaMensalidade=float(input(\"Digite a média da mensalidade: \"))\n",
        "print(nome + \" trabalha na empresa \" + empresa)\n",
        "print(\"Possui: \", qtde_funcionarios, \" funcionarios.\")\n",
        "print(\"A média da mensalidade é de: \" + str(mediaMensalidade))"
      ],
      "metadata": {
        "colab": {
          "base_uri": "https://localhost:8080/"
        },
        "id": "RdjabRA9GleT",
        "outputId": "723e89f7-c563-4831-ea8b-3d2adbcd1b33"
      },
      "execution_count": 3,
      "outputs": [
        {
          "output_type": "stream",
          "name": "stdout",
          "text": [
            "Digite um funcionário: Enzo\n",
            "Digite a instituição: Fiap\n",
            "Digite a qtde de funcionários: 1000\n",
            "Digite a média da mensalidade: 770.54\n",
            "Enzo trabalha na empresa Fiap\n",
            "Possui:  1000  funcionarios.\n",
            "A média da mensalidade é de: 770.54\n"
          ]
        }
      ]
    },
    {
      "cell_type": "markdown",
      "source": [
        "uso da função type()\n",
        "retorna o tipo de dado do que estiver dentro dos seus parênteses"
      ],
      "metadata": {
        "id": "6kxLK6p4IpOu"
      }
    },
    {
      "cell_type": "code",
      "source": [
        "nome=input(\"Digite um funcionário: \")\n",
        "empresa=input(\"Digite a instituição: \")\n",
        "qtde_funcionarios=int(input(\"Digite a qtde de funcionários: \"))\n",
        "mediaMensalidade=float(input(\"Digite a média da mensalidade: \"))\n",
        "print(nome + \" trabalha na empresa \" + empresa)\n",
        "print(\"Possui: \", qtde_funcionarios, \" funcionarios.\")\n",
        "print(\"A média da mensalidade é de: \" + str(mediaMensalidade))\n",
        "print(\"==============Verifique os tipos de dados abaixo:==============\")\n",
        "print(\"O tipo de dado da variavel [nome] é: \",type(nome))\n",
        "print(\"O tipo de dado da variavel [empresa] é: \",type(empresa))\n",
        "print(\"O tipo de dado da variavel [qtde_funcionarios] é: \",type(qtde_funcionarios))\n",
        "print(\"O tipo de dado da variavel [mediaMensalidade] é: \",type(mediaMensalidade))"
      ],
      "metadata": {
        "colab": {
          "base_uri": "https://localhost:8080/"
        },
        "id": "S2pU7rLBHQ5G",
        "outputId": "8033cc69-42f0-4240-fb9c-881632b0631e"
      },
      "execution_count": 4,
      "outputs": [
        {
          "output_type": "stream",
          "name": "stdout",
          "text": [
            "Digite um funcionário: Enzo\n",
            "Digite a instituição: Fiap\n",
            "Digite a qtde de funcionários: 10000\n",
            "Digite a média da mensalidade: 770.00\n",
            "Enzo trabalha na empresa Fiap\n",
            "Possui:  10000  funcionarios.\n",
            "A média da mensalidade é de: 770.0\n",
            "==============Verifique os tipos de dados abaixo:==============\n",
            "O tipo de dado da variavel [nome] é:  <class 'str'>\n",
            "O tipo de dado da variavel [empresa] é:  <class 'str'>\n",
            "O tipo de dado da variavel [qtde_funcionarios] é:  <class 'int'>\n",
            "O tipo de dado da variavel [mediaMensalidade] é:  <class 'float'>\n"
          ]
        }
      ]
    }
  ]
}