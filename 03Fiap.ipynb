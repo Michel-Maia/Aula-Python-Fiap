{
  "nbformat": 4,
  "nbformat_minor": 0,
  "metadata": {
    "colab": {
      "provenance": [],
      "authorship_tag": "ABX9TyMDCd8yhTgPwTrn7K+RAGSX"
    },
    "kernelspec": {
      "name": "python3",
      "display_name": "Python 3"
    },
    "language_info": {
      "name": "python"
    }
  },
  "cells": [
    {
      "cell_type": "code",
      "execution_count": 1,
      "metadata": {
        "colab": {
          "base_uri": "https://localhost:8080/"
        },
        "id": "Um6VWjdKozFE",
        "outputId": "141ce580-7f15-4188-e8ed-21dc6f89b392"
      },
      "outputs": [
        {
          "output_type": "stream",
          "name": "stdout",
          "text": [
            "Digite o nível de acesso: ADM\n",
            "Digite o seu gênero: MASCULINO\n",
            "Olá administrador\n"
          ]
        }
      ],
      "source": [
        "nivel=input(\"Digite o nível de acesso: \").upper()\n",
        "if nivel==\"ADM\" or nivel==\"USR\":\n",
        "    genero=input(\"Digite o seu gênero: \").upper()\n",
        "    if nivel==\"ADM\":\n",
        "        if genero==\"FEMININO\":\n",
        "            print(\"Olá administradora\")\n",
        "        else:\n",
        "            print(\"Olá administrador\")\n",
        "    else:\n",
        "        if genero==\"FEMININO\":\n",
        "            print(\"Olá usuária\")\n",
        "        else:\n",
        "            print(\"Olá usuário\")\n",
        "elif nivel==\"GUEST\":\n",
        "    print(\"Olá visitante\")\n",
        "else:\n",
        "    print(\"Olá desconhecido(a)\")"
      ]
    },
    {
      "cell_type": "markdown",
      "source": [
        "Laço de repetição\n",
        "** While **\n",
        "\n"
      ],
      "metadata": {
        "id": "wdq9rgmyqADK"
      }
    },
    {
      "cell_type": "code",
      "source": [
        "numero=int(input(\"Digite um numero: \"))\n",
        "while numero<100:\n",
        "    print(\"\t\" + str(numero))\n",
        "    numero=numero+1\n",
        "print(\"Laço encerrado....\")"
      ],
      "metadata": {
        "colab": {
          "base_uri": "https://localhost:8080/"
        },
        "id": "TtbuqJUyqUtr",
        "outputId": "587d701d-2234-4724-9116-c30cd13ee7fe"
      },
      "execution_count": 2,
      "outputs": [
        {
          "output_type": "stream",
          "name": "stdout",
          "text": [
            "Digite um numero: 70\n",
            "\t70\n",
            "\t71\n",
            "\t72\n",
            "\t73\n",
            "\t74\n",
            "\t75\n",
            "\t76\n",
            "\t77\n",
            "\t78\n",
            "\t79\n",
            "\t80\n",
            "\t81\n",
            "\t82\n",
            "\t83\n",
            "\t84\n",
            "\t85\n",
            "\t86\n",
            "\t87\n",
            "\t88\n",
            "\t89\n",
            "\t90\n",
            "\t91\n",
            "\t92\n",
            "\t93\n",
            "\t94\n",
            "\t95\n",
            "\t96\n",
            "\t97\n",
            "\t98\n",
            "\t99\n",
            "Laço encerrado....\n"
          ]
        }
      ]
    },
    {
      "cell_type": "code",
      "source": [
        "nome=input(\"Digite o nome: \")\n",
        "idade=int(input(\"Digite a idade: \"))\n",
        "doenca_infectocontagiosa=input(\"Suspeita de doença infecto-contagiosa? \").upper()\n",
        "# PRIMEIRO PROBLEMA A SER RESOLVIDO\n",
        "while doenca_infectocontagiosa!=\"SIM\" and  doenca_infectocontagiosa!=\"NAO\":\n",
        "    print(\"Digite SIM ou NAO\")\n",
        "    doenca_infectocontagiosa = input(\"Suspeita de doença infecto-contagiosa? \").upper()\n",
        "\n",
        "if doenca_infectocontagiosa==\"SIM\":\n",
        "    print(\"Encaminhe o paciente para sala AMARELA\")\n",
        "else:\n",
        "    print(\"Encaminhe o paciente para sala BRANCA\")\n",
        "\n",
        "# SEGUNDO PROBLEMA A SER RESOLVIDO\n",
        "if idade >= 65:\n",
        "    print(\"Paciente COM prioridade\")\n",
        "else:\n",
        "    genero=input(\"Digite o gênero do paciente: \").upper()\n",
        "    if genero==\"FEMININO\" and idade>10:\n",
        "        gravidez=input(\"A paciente está grávida? \").upper()\n",
        "        if gravidez==\"SIM\":\n",
        "            print(\"Paciente COM prioridade\")\n",
        "        else:\n",
        "            print(\"Paciente SEM prioridade\")\n",
        "    else:\n",
        "        print(\"Paciente SEM prioridade\")"
      ],
      "metadata": {
        "colab": {
          "base_uri": "https://localhost:8080/"
        },
        "id": "k4PfDsYErECf",
        "outputId": "f0671e7e-a07a-4394-dd90-3b8f55eb1893"
      },
      "execution_count": 3,
      "outputs": [
        {
          "output_type": "stream",
          "name": "stdout",
          "text": [
            "Digite o nome: José\n",
            "Digite a idade: 85\n",
            "Suspeita de doença infecto-contagiosa? NAO\n",
            "Encaminhe o paciente para sala BRANCA\n",
            "Paciente COM prioridade\n"
          ]
        }
      ]
    }
  ]
}